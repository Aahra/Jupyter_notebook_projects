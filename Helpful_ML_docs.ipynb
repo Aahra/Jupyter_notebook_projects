{
  "nbformat": 4,
  "nbformat_minor": 0,
  "metadata": {
    "colab": {
      "name": "Helpful ML docs.ipynb",
      "provenance": [],
      "authorship_tag": "ABX9TyOEiOVsh4V4KapYskBucQkk",
      "include_colab_link": true
    },
    "kernelspec": {
      "name": "python3",
      "display_name": "Python 3"
    },
    "language_info": {
      "name": "python"
    }
  },
  "cells": [
    {
      "cell_type": "markdown",
      "metadata": {
        "id": "view-in-github",
        "colab_type": "text"
      },
      "source": [
        "<a href=\"https://colab.research.google.com/github/Aahra/Jupyter_notebook_projects/blob/master/Helpful_ML_docs.ipynb\" target=\"_parent\"><img src=\"https://colab.research.google.com/assets/colab-badge.svg\" alt=\"Open In Colab\"/></a>"
      ]
    },
    {
      "cell_type": "markdown",
      "metadata": {
        "id": "dXcaFaBIWUMH"
      },
      "source": [
        "[Elements of AI](https://www.elementsofai.com/)"
      ]
    },
    {
      "cell_type": "markdown",
      "metadata": {
        "id": "um6KmmvrWKH2"
      },
      "source": [
        "[6 Step Field Guide ](https://www.mrdbourke.com/a-6-step-field-guide-for-building-machine-learning-projects//)"
      ]
    },
    {
      "cell_type": "markdown",
      "metadata": {
        "id": "lGECQALhWex5"
      },
      "source": [
        "[Jupyter notebook tutorial](https://www.dataquest.io/blog/jupyter-notebook-tutorial/)"
      ]
    },
    {
      "cell_type": "markdown",
      "metadata": {
        "id": "eXchHfR0WsRq"
      },
      "source": [
        "[Conda env tut](content://com.mi.android.globalFileexplorer.myprovider/external_files/Telegram/Telegram%20Documents/4_5785095998799874716/5.%20Data%20Science%20Environment%20Setup/10.%20Sharing%20your%20Conda%20Environment.html)"
      ]
    },
    {
      "cell_type": "markdown",
      "metadata": {
        "id": "HIZ-LUEHWzo4"
      },
      "source": [
        "[Google - ML crash course](https://developers.google.com/machine-learning/crash-course/\n",
        ")"
      ]
    }
  ]
}